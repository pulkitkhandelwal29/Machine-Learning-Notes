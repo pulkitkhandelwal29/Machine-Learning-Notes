{
 "cells": [
  {
   "cell_type": "code",
   "execution_count": null,
   "metadata": {},
   "outputs": [],
   "source": [
    "#Converting categorical variables into numbers\n",
    "\n",
    "#One way\n",
    "from sklearn.preprocessing import OneHotEncoder\n",
    "from sklearn.compose import ColumnTransformer #which columns you want to fix\n",
    "\n",
    "categorical_features=['Make','Color','Doors']\n",
    "\n",
    "one_hot = OneHotEncoder()\n",
    "\n",
    "#ColumnTransfomer takes one hot encoder, apply it to the categorical features and the remainder(left out columns), passthrough(don't do anything to those)\n",
    "transformer = ColumnTransformer([(\"one_hot\",\n",
    "                                 one_hot,\n",
    "                                  categorical_features)],\n",
    "                               remainder=\"passthrough\")\n",
    "\n",
    "transformed_X = transformer.fit_transform(X)\n",
    "transformed_X\n",
    "\n",
    "pd.Dataframe(transformed_X)\n",
    "\n",
    "\n",
    "#Second way\n",
    "dummies = pd.get_dummies(car_sales[['Make','Color']])\n",
    "dummies\n",
    "\n"
   ]
  },
  {
   "cell_type": "code",
   "execution_count": null,
   "metadata": {},
   "outputs": [],
   "source": [
    "# Fill missing values\n",
    "\n",
    "#Option 1 :- fill using fillna\n",
    "\n",
    "#Option 2: - Fill missing values with Scikit-Learn\n",
    "from sklearn.impute import SimpleImputer\n",
    "from sklearn.compose import ColumnTransformer\n",
    "\n",
    "#Fill categorical values\n",
    "cat_imputer = SimpleImputer(strategy = \"constant\",fill_value=\"missing\")\n",
    "#Fill categorical values\n",
    "door_imputer = SimpleImputer(strategy = \"constant\",fill_value=4)\n",
    "#Fill numeric values\n",
    "num_imputer = SimpleImputer(strategy = \"mean\")\n",
    "\n",
    "#Define columns\n",
    "cat_features = ['Make','Color']\n",
    "door_features = ['Doors']\n",
    "num_features = ['Odometer (KM)']\n",
    "\n",
    "#creating imputer\n",
    "imputer = ColumnTransformer([\n",
    "    ('cat_imputer',cat_imputer,cat_features),\n",
    "    ('door_imputer',door_imputer,door_features)\n",
    "    ('num_imputer',num_imputer,num_features)\n",
    "])\n",
    "\n",
    "#transform the data\n",
    "filled_X = imputer.fit_transform(X)\n",
    "filled_X\n",
    "\n",
    "car_sales_filled = pd.DataFrame(filled_X,\n",
    "                               columns = ['Make','Color','Doors','Odometer(KM)'])\n",
    "car_sales_filled.head()\n",
    "\n",
    "\n",
    "#Process of turning non-numericals to numericals is known as feature encoding"
   ]
  },
  {
   "cell_type": "code",
   "execution_count": null,
   "metadata": {},
   "outputs": [],
   "source": [
    "#Evaluation of model(All answers same)\n",
    "\n",
    "#option 1\n",
    "y_preds= clf.predict(X_test)\n",
    "np.mean(y_preds == y_test)\n",
    "\n",
    "#Option 2\n",
    "clf.score(X_test,y_test)\n",
    "\n",
    "#Option 3\n",
    "from sklearn.metrics import accuracy_score\n",
    "accuracy_score(y_test,y_preds)\n",
    "\n",
    "#### predict() vs predict_proba()"
   ]
  },
  {
   "cell_type": "code",
   "execution_count": null,
   "metadata": {},
   "outputs": [],
   "source": [
    "#Evaluating the model\n",
    "\n",
    "#Option 1 \n",
    "model.score(X_test,y_test)\n",
    "\n",
    "#Option 2\n",
    "from sklearn.model_selection import cross_val_score\n",
    "cross_val_score(model,X,y,cv=5)\n",
    "### Will return the score achieved from 5 split. We can find out the mean and see if our model is working good\n",
    "np.mean(cross_val_score(model,X,y,cv=5))"
   ]
  },
  {
   "cell_type": "code",
   "execution_count": null,
   "metadata": {},
   "outputs": [],
   "source": [
    "# Classification Model Evaluation Metrics\n",
    "1. Accuracy\n",
    "2. Area under ROC Curve (Area under Receiver Operating Characteristic Curve) (also known as AUC/ROC)\n",
    "3. Confusion Matrix\n",
    "4. Classification Report"
   ]
  },
  {
   "cell_type": "code",
   "execution_count": null,
   "metadata": {},
   "outputs": [],
   "source": [
    "# Regression Model Evaluation Metrics\n",
    "## Maximize R2 and minimize MAE, MSE\n",
    "1. R^2 (r-squared ) or coefficient of determination\n",
    "2. Mean Absolute Error (MAE)\n",
    "3. Mean Squared Error (MSE)"
   ]
  },
  {
   "cell_type": "code",
   "execution_count": null,
   "metadata": {},
   "outputs": [],
   "source": [
    "### In cross_val_Score, we can provide scoring paramter we want to get the evaluation based on that particular metrics\n",
    "like\n",
    "cross_val_score(model,X,y,cv=5,scoring=\"accuracy\")\n",
    "cross_val_score(model,X,y,cv=5,scoring=\"precision\")\n",
    "cross_val_score(model,X,y,cv=5,scoring=\"neg_mean_absolute_error\")\n"
   ]
  },
  {
   "cell_type": "code",
   "execution_count": null,
   "metadata": {},
   "outputs": [],
   "source": [
    "#Hyperparameter Tuning\n",
    "1. By hand\n",
    "2. Randomly with RandomizedSearchCV\n",
    "3. Exhaustively with GridSearchCV"
   ]
  },
  {
   "cell_type": "code",
   "execution_count": null,
   "metadata": {},
   "outputs": [],
   "source": [
    "#Saving a model\n",
    "1. Pickle\n",
    "2. Joblib #If the model is large, it is efficient to use joblib"
   ]
  },
  {
   "cell_type": "code",
   "execution_count": null,
   "metadata": {},
   "outputs": [],
   "source": [
    "#Workflow of Ml Project\n",
    "1. Getting the data ready\n",
    "2. Choose the right estimator/algorithm for our problems\n",
    "3. Fit the model/algorithm and use it to make predictions\n",
    "4. Evaluating the model\n",
    "5. Improving the model\n",
    "6. Save and load a trained model\n",
    "7. Putting it all together"
   ]
  }
 ],
 "metadata": {
  "kernelspec": {
   "display_name": "Python 3 (ipykernel)",
   "language": "python",
   "name": "python3"
  },
  "language_info": {
   "codemirror_mode": {
    "name": "ipython",
    "version": 3
   },
   "file_extension": ".py",
   "mimetype": "text/x-python",
   "name": "python",
   "nbconvert_exporter": "python",
   "pygments_lexer": "ipython3",
   "version": "3.9.7"
  }
 },
 "nbformat": 4,
 "nbformat_minor": 4
}
